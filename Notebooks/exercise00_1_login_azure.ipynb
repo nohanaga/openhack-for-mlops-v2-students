{
  "cells": [
    {
      "cell_type": "markdown",
      "source": [
        "# Exercise00-1 : Login Azure\n",
        "\n",
        "CLI コマンドで Azure にログインする必要があります。<br>\n",
        "（**以下の ``{AZURE_SUBSCRIPTION_ID}`` は、自分のサブスクリプション ID に置き換えてください。**）\n",
        "\n",
        "** 注意: ** ご自分のテナントのサブスクリプション `id` の値を使用してください。`tenantId` ではありません。\n"
      ],
      "metadata": {}
    },
    {
      "cell_type": "markdown",
      "source": [
        "以下のコマンドを実行すると、9 桁のコードが発行されるので、それをコピーして `https://microsoft.com/devicelogin` リンクをクリックしてデバイス認証します。"
      ],
      "metadata": {
        "nteract": {
          "transient": {
            "deleting": false
          }
        }
      }
    },
    {
      "cell_type": "code",
      "source": [
        "!az login"
      ],
      "outputs": [],
      "execution_count": null,
      "metadata": {}
    },
    {
      "cell_type": "markdown",
      "source": [
        "## CLI で使用するサブスクリプションを指定します"
      ],
      "metadata": {
        "nteract": {
          "transient": {
            "deleting": false
          }
        }
      }
    },
    {
      "cell_type": "markdown",
      "source": [
        "上のコマンド実行結果から、使用するサブスクリプションの `id` をコピーして以下に入力します。"
      ],
      "metadata": {
        "nteract": {
          "transient": {
            "deleting": false
          }
        }
      }
    },
    {
      "cell_type": "code",
      "source": [
        "!az account set -s '{AZURE_SUBSCRIPTION_ID}'"
      ],
      "outputs": [],
      "execution_count": null,
      "metadata": {}
    },
    {
      "cell_type": "markdown",
      "source": [
        "## 共通引数の既定値の設定\r\n",
        "\r\n",
        "以下のブランケットの文字列を置き換えて、必要な共通引数を設定します。<br>\r\n",
        "Azure Machine Learning のリソースグループ名とワークスペースは [Azure Portal](https://ms.portal.azure.com/) から取得できます。<br>\r\n",
        "共通引数を設定することでこれ以降のコマンドで `--resource-group `, `--workspace-name` 引数を指定する必要がなくなります。"
      ],
      "metadata": {
        "nteract": {
          "transient": {
            "deleting": false
          }
        }
      }
    },
    {
      "cell_type": "code",
      "source": [
        "resource_group = \"{AML-RESOURCE-GROUP-NAME}\"\r\n",
        "aml_workspace = \"{AML-WORSPACE-NAME}\""
      ],
      "outputs": [],
      "execution_count": null,
      "metadata": {
        "jupyter": {
          "source_hidden": false,
          "outputs_hidden": false
        },
        "nteract": {
          "transient": {
            "deleting": false
          }
        }
      }
    },
    {
      "cell_type": "code",
      "source": [
        "!az configure --defaults group=$resource_group workspace=$aml_workspace"
      ],
      "outputs": [],
      "execution_count": null,
      "metadata": {
        "jupyter": {
          "source_hidden": false,
          "outputs_hidden": false
        },
        "nteract": {
          "transient": {
            "deleting": false
          }
        }
      }
    },
    {
      "cell_type": "markdown",
      "source": [
        "## Azure CLI のバージョン確認\n",
        "\"extensions\" に \"ml\" がインストールされていることを確認します。本コンテンツでは、`\"extensions\": { \"ml\": \"2.10.0\" }` で動作確認しておりますので、存在しないかその他のバージョンの場合は下の「初回のみ実行」手順を実行してください。"
      ],
      "metadata": {
        "nteract": {
          "transient": {
            "deleting": false
          }
        }
      }
    },
    {
      "cell_type": "code",
      "source": [
        "!az version"
      ],
      "outputs": [],
      "execution_count": null,
      "metadata": {
        "jupyter": {
          "outputs_hidden": false,
          "source_hidden": false
        },
        "nteract": {
          "transient": {
            "deleting": false
          }
        }
      }
    },
    {
      "cell_type": "markdown",
      "source": [
        "# 初回のみ実行\n",
        "**以下の手順は初回に一度だけ実行してください**<br>\n",
        "次回以降は `az login` のみを使用します。"
      ],
      "metadata": {
        "nteract": {
          "transient": {
            "deleting": false
          }
        }
      }
    },
    {
      "cell_type": "markdown",
      "source": [
        "## Azure ML CLI v2 のインストール"
      ],
      "metadata": {
        "nteract": {
          "transient": {
            "deleting": false
          }
        }
      }
    },
    {
      "cell_type": "markdown",
      "source": [
        "azure-cli-ml 拡張機能など、ml 名前空間を使用する競合する拡張機能がインストールされていないことを確認します。<br>\n",
        "インストールされていない場合、`The extension ml is not installed.` エラーが出ますが無視して次のセルに移動してください。<br>\n",
        "その後、ml 拡張機能をインストールします。"
      ],
      "metadata": {
        "nteract": {
          "transient": {
            "deleting": false
          }
        }
      }
    },
    {
      "cell_type": "code",
      "source": [
        "!az extension remove -n azure-cli-ml\n",
        "!az extension remove -n ml"
      ],
      "outputs": [],
      "execution_count": null,
      "metadata": {
        "jupyter": {
          "outputs_hidden": false,
          "source_hidden": false
        },
        "nteract": {
          "transient": {
            "deleting": false
          }
        }
      }
    },
    {
      "cell_type": "code",
      "source": [
        "!az extension add --name ml --version 2.10.0"
      ],
      "outputs": [],
      "execution_count": null,
      "metadata": {
        "jupyter": {
          "outputs_hidden": false,
          "source_hidden": false
        },
        "nteract": {
          "transient": {
            "deleting": false
          }
        }
      }
    },
    {
      "cell_type": "markdown",
      "source": [
        "## インストール確認\n",
        "`\"extensions\": { \"ml\": \"2.10.0\" }` が追加されれば完了です。"
      ],
      "metadata": {
        "nteract": {
          "transient": {
            "deleting": false
          }
        }
      }
    },
    {
      "cell_type": "code",
      "source": [
        "!az version"
      ],
      "outputs": [],
      "execution_count": null,
      "metadata": {
        "jupyter": {
          "outputs_hidden": false,
          "source_hidden": false
        },
        "nteract": {
          "transient": {
            "deleting": false
          }
        }
      }
    },
    {
      "cell_type": "markdown",
      "source": [
        "## CLI v2 動作テスト\n",
        "AML ワークスペース一覧が出力されれば完了です。"
      ],
      "metadata": {
        "nteract": {
          "transient": {
            "deleting": false
          }
        }
      }
    },
    {
      "cell_type": "code",
      "source": [
        "!az ml workspace list"
      ],
      "outputs": [],
      "execution_count": null,
      "metadata": {
        "jupyter": {
          "outputs_hidden": false,
          "source_hidden": false
        },
        "nteract": {
          "transient": {
            "deleting": false
          }
        }
      }
    }
  ],
  "metadata": {
    "kernel_info": {
      "name": "python38-azureml"
    },
    "kernelspec": {
      "name": "python38-azureml",
      "language": "python",
      "display_name": "Python 3.8 - AzureML"
    },
    "language_info": {
      "name": "python",
      "version": "3.8.5",
      "mimetype": "text/x-python",
      "codemirror_mode": {
        "name": "ipython",
        "version": 3
      },
      "pygments_lexer": "ipython3",
      "nbconvert_exporter": "python",
      "file_extension": ".py"
    },
    "nteract": {
      "version": "nteract-front-end@1.0.0"
    }
  },
  "nbformat": 4,
  "nbformat_minor": 0
}