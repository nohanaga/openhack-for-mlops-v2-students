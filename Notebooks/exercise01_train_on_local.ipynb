{
  "cells": [
    {
      "cell_type": "markdown",
      "source": [
        "# Exercise01 : ローカルマシンでトレーニングしてみる\n",
        "\n",
        "Azure Machine Learning で実行する前に、いつものようにローカルの計算機でサンプルスクリプトを学習し、モデルを作成します。<br>\n",
        "この演習では、Azure Machine Learning を使用せず、ローカルで Scikit-learn を使用してサンプルコードを実行します。\n"
      ],
      "metadata": {
        "nteract": {
          "transient": {
            "deleting": false
          }
        }
      }
    },
    {
      "cell_type": "code",
      "source": [
        "from sklearn.datasets import load_diabetes\n",
        "from sklearn.linear_model import Ridge\n",
        "from sklearn.metrics import r2_score\n",
        "from sklearn.metrics import mean_squared_error\n",
        "from sklearn.metrics import mean_absolute_error\n",
        "from sklearn.model_selection import train_test_split\n",
        "\n",
        "import numpy as np\n",
        "import joblib\n",
        "import pandas as pd\n",
        "import matplotlib.pyplot as plt\n"
      ],
      "outputs": [],
      "execution_count": null,
      "metadata": {
        "jupyter": {
          "outputs_hidden": false,
          "source_hidden": false
        },
        "nteract": {
          "transient": {
            "deleting": false
          }
        }
      }
    },
    {
      "cell_type": "code",
      "source": [
        "sample_data = load_diabetes()\n",
        "\n",
        "df = pd.DataFrame(\n",
        "    data=sample_data.data,\n",
        "    columns=sample_data.feature_names)\n",
        "df['Y'] = sample_data.target\n",
        "y_all = pd.DataFrame(df[\"Y\"],columns=[\"Y\"])\n",
        "df"
      ],
      "outputs": [],
      "execution_count": null,
      "metadata": {
        "jupyter": {
          "outputs_hidden": false,
          "source_hidden": false
        },
        "nteract": {
          "transient": {
            "deleting": false
          }
        }
      }
    },
    {
      "cell_type": "markdown",
      "source": [
        "データサイエンス初期のデータが少ない状態をシミュレートするため、あえてレコードを減らしたバージョンのデータセットを作成します。\n"
      ],
      "metadata": {
        "nteract": {
          "transient": {
            "deleting": false
          }
        }
      }
    },
    {
      "cell_type": "code",
      "source": [
        "df350 = df[:350]\n",
        "print(df350.shape)"
      ],
      "outputs": [],
      "execution_count": null,
      "metadata": {
        "jupyter": {
          "outputs_hidden": false,
          "source_hidden": false
        },
        "nteract": {
          "transient": {
            "deleting": false
          }
        }
      }
    },
    {
      "cell_type": "markdown",
      "source": [
        "データセットをトレーニングとテストデータに分割します。"
      ],
      "metadata": {
        "nteract": {
          "transient": {
            "deleting": false
          }
        }
      }
    },
    {
      "cell_type": "code",
      "source": [
        "X = df350.drop('Y', axis=1).values\n",
        "y = df350['Y'].values\n",
        "\n",
        "#splitting\n",
        "X_train, X_test, y_train, y_test = train_test_split(X, y, test_size=0.2, random_state=0)\n"
      ],
      "outputs": [],
      "execution_count": null,
      "metadata": {
        "jupyter": {
          "outputs_hidden": false,
          "source_hidden": false
        },
        "nteract": {
          "transient": {
            "deleting": false
          }
        }
      }
    },
    {
      "cell_type": "markdown",
      "source": [
        "ローカルでモデルを学習させます。\n",
        "このコードは、今後リモート学習用にトレーニング スクリプトとして分離します。\n"
      ],
      "metadata": {
        "nteract": {
          "transient": {
            "deleting": false
          }
        }
      }
    },
    {
      "cell_type": "code",
      "source": [
        "# experiment parameters\n",
        "args = {\n",
        "    \"alpha\": 0.03\n",
        "}\n",
        "\n",
        "#fitting the model\n",
        "reg_model = Ridge(**args)\n",
        "reg_model.fit(X_train, y_train)"
      ],
      "outputs": [],
      "execution_count": null,
      "metadata": {
        "jupyter": {
          "outputs_hidden": false,
          "source_hidden": false
        },
        "nteract": {
          "transient": {
            "deleting": false
          }
        }
      }
    },
    {
      "cell_type": "markdown",
      "source": [
        "生成されたモデルを使って予測します。このコードは、今後スコアリング スクリプトとして分離します。"
      ],
      "metadata": {
        "nteract": {
          "transient": {
            "deleting": false
          }
        }
      }
    },
    {
      "cell_type": "code",
      "source": [
        "#predictions \n",
        "preds = reg_model.predict(X_test)\n",
        "\n",
        "#model metrics\n",
        "r2 = r2_score(y_test, preds)\n",
        "rmse = np.sqrt(mean_squared_error(y_test, preds))\n",
        "mae = mean_absolute_error(y_test, preds)\n",
        "mse = mean_squared_error(y_test, preds)\n",
        "\n",
        "print('R2 :', r2)\n",
        "print('RMSE :', rmse)\n",
        "print('MAE :', mae)\n",
        "print('MSE :', mse)"
      ],
      "outputs": [],
      "execution_count": null,
      "metadata": {
        "jupyter": {
          "outputs_hidden": false,
          "source_hidden": false
        },
        "nteract": {
          "transient": {
            "deleting": false
          }
        }
      }
    },
    {
      "cell_type": "markdown",
      "source": [
        "予測値に対する実際の値の散布図（テストデータ）"
      ],
      "metadata": {
        "nteract": {
          "transient": {
            "deleting": false
          }
        }
      }
    },
    {
      "cell_type": "code",
      "source": [
        "plt.figure(figsize=(10, 7))\r\n",
        "\r\n",
        "#scatterplot of y_test and preds\r\n",
        "plt.scatter(y_test, preds) \r\n",
        "plt.plot(y_test, y_test, color='r')\r\n",
        "\r\n",
        "plt.title('Actual VS Predicted Values (Test set)') \r\n",
        "plt.xlabel('Actual Values') \r\n",
        "plt.ylabel('Predicted Values')\r\n",
        "\r\n",
        "plt.show()"
      ],
      "outputs": [],
      "execution_count": null,
      "metadata": {
        "jupyter": {
          "source_hidden": false,
          "outputs_hidden": false
        },
        "nteract": {
          "transient": {
            "deleting": false
          }
        }
      }
    }
  ],
  "metadata": {
    "kernel_info": {
      "name": "python38-azureml"
    },
    "kernelspec": {
      "name": "python38-azureml",
      "language": "python",
      "display_name": "Python 3.8 - AzureML"
    },
    "language_info": {
      "name": "python",
      "version": "3.8.5",
      "mimetype": "text/x-python",
      "codemirror_mode": {
        "name": "ipython",
        "version": 3
      },
      "pygments_lexer": "ipython3",
      "nbconvert_exporter": "python",
      "file_extension": ".py"
    },
    "nteract": {
      "version": "nteract-front-end@1.0.0"
    },
    "microsoft": {
      "host": {
        "AzureML": {
          "notebookHasBeenCompleted": true
        }
      }
    }
  },
  "nbformat": 4,
  "nbformat_minor": 0
}