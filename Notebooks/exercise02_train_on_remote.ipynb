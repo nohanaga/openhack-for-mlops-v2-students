{
  "cells": [
    {
      "cell_type": "markdown",
      "source": [
        "# Exercise02 : リモート CPU VM でのトレーニング\n",
        "\n",
        "前回の演習([Exercise01](./exercise01_train_on_local.ipynb))を CPU を利用したリモート仮想マシンで実行してみましょう。<br>\n",
        "また、お好きな Docker イメージでリモートトレーニングを実行することも可能です。\n"
      ],
      "metadata": {}
    },
    {
      "cell_type": "markdown",
      "source": [
        "## トレーニングスクリプトをファイルとして保存する (train.py)"
      ],
      "metadata": {}
    },
    {
      "cell_type": "markdown",
      "source": [
        "``scirpt`` ディレクトリを作成し、Python スクリプトを ``./script/train.py`` として保存します。"
      ],
      "metadata": {}
    },
    {
      "cell_type": "code",
      "source": [
        "import os\n",
        "script_folder = './scripts'\n",
        "os.makedirs(script_folder, exist_ok=True)"
      ],
      "outputs": [],
      "execution_count": null,
      "metadata": {}
    },
    {
      "cell_type": "code",
      "source": [
        "%%writefile scripts/train.py\n",
        "# Copyright (c) Microsoft. All rights reserved.\n",
        "# Licensed under the MIT license.\n",
        "\n",
        "import argparse, os, json\n",
        "import matplotlib.pyplot as plt\n",
        "import numpy as np\n",
        "from sklearn.linear_model import Ridge\n",
        "from sklearn.metrics import mean_squared_error, r2_score\n",
        "from sklearn.model_selection import train_test_split\n",
        "import mlflow\n",
        "import mlflow.sklearn\n",
        "\n",
        "import matplotlib\n",
        "matplotlib.use('Agg')\n",
        "\n",
        "def parse_args():\n",
        "    # setup arg parser\n",
        "    parser = argparse.ArgumentParser()\n",
        "    # add arguments\n",
        "    parser.add_argument(\"--input_data\", type=str, help=\"input data\")\n",
        "    parser.add_argument(\"--output_dir\", type=str, help=\"output dir\", default=\"./outputs\")\n",
        "    # parse args\n",
        "    args = parser.parse_args()\n",
        "\n",
        "    return args\n",
        "\n",
        "# define functions\n",
        "def main(args):\n",
        "        \n",
        "    lines = [\n",
        "        f\"Training data path: {args.input_data}\",\n",
        "        f\"output dir path: {args.output_dir}\"\n",
        "    ]\n",
        "    for line in lines:\n",
        "        print(line)\n",
        "\n",
        "    diabetes_data = np.loadtxt(args.input_data, delimiter=',',skiprows=1)\n",
        "    X=diabetes_data[:,:-1]\n",
        "    y=diabetes_data[:,-1]\n",
        "    #columns = ['age', 'gender', 'bmi', 'bp', 's1', 's2', 's3', 's4', 's5', 's6']\n",
        "    X_train, X_test, y_train, y_test = train_test_split(X, y, test_size=0.2, random_state=0)\n",
        "\n",
        "    with mlflow.start_run():\n",
        "\n",
        "        run_id = mlflow.active_run().info.run_id\n",
        "        mlflow.autolog(log_models=False, exclusive=True)\n",
        "        print('run_id = ', run_id)\n",
        "\n",
        "        mlflow.log_metric(\"Training samples\", len(X_train))\n",
        "        mlflow.log_metric(\"Test samples\", len(X_test))\n",
        "\n",
        "        # Log the algorithm parameter alpha to the run\n",
        "        mlflow.log_metric('alpha', 0.03)\n",
        "        # Create, fit, and test the scikit-learn Ridge regression model\n",
        "        regression_model = Ridge(alpha=0.03)\n",
        "        regression_model.fit(X_train, y_train)\n",
        "        preds = regression_model.predict(X_test)\n",
        "\n",
        "        # Log mean squared error\n",
        "        mse = mean_squared_error(y_test, preds)\n",
        "        rmse = np.sqrt(mse)\n",
        "        r2 = r2_score(y_test, preds)\n",
        "\n",
        "        mlflow.log_metric('mse', mse)\n",
        "        mlflow.log_metric('rmse', rmse)\n",
        "        mlflow.log_metric('R2', r2)\n",
        "\n",
        "        # Plot actuals vs predictions and save the plot within the run\n",
        "        plt.figure(figsize=(10, 7))\n",
        "\n",
        "        #scatterplot of y_test and preds\n",
        "        plt.scatter(y_test, preds) \n",
        "        plt.plot(y_test, y_test, color='r')\n",
        "\n",
        "        plt.title('Actual VS Predicted Values (Test set)') \n",
        "        plt.xlabel('Actual Values') \n",
        "        plt.ylabel('Predicted Values')\n",
        "\n",
        "        plt.savefig('actuals_vs_predictions.png')\n",
        "        mlflow.log_artifact(\"actuals_vs_predictions.png\")\n",
        "\n",
        "        # Finally save the model to the outputs directory for capture\n",
        "        os.makedirs(os.path.join(args.output_dir, 'models'), exist_ok=True)\n",
        "        mlflow.sklearn.save_model(regression_model, os.path.join(args.output_dir, 'models'))\n",
        "\n",
        "        metric = {}\n",
        "        metric['run_id'] = run_id\n",
        "        metric['RMSE'] = rmse\n",
        "        metric['R2'] = r2\n",
        "        print(metric)\n",
        "\n",
        "        with open(os.path.join(args.output_dir, 'metric.json'), \"w\") as outfile:\n",
        "            json.dump(metric, outfile)\n",
        "\n",
        "        mlflow.log_artifacts(args.output_dir)\n",
        "\n",
        "# run script\n",
        "if __name__ == \"__main__\":\n",
        "    # parse args\n",
        "    args = parse_args()\n",
        "\n",
        "    # run main function\n",
        "    main(args)"
      ],
      "outputs": [],
      "execution_count": null,
      "metadata": {}
    },
    {
      "cell_type": "markdown",
      "source": [
        "## リモート仮想マシンでのトレーニング\n",
        "\n",
        "それでは、AML と連携して、リモート仮想マシンのトレーニングを自動化する方法を紹介します。"
      ],
      "metadata": {}
    },
    {
      "cell_type": "markdown",
      "source": [
        "### Step 1 : 新しいコンピューティング クラスターを作成する\n",
        "\n",
        "開始する前に、以下を確認してください。\n",
        "\n",
        "- AML ワークスペースが存在する場所で、以下のサイズ（以下のスクリプトでは、Standard_D2_v2）がサポートされていることを確認します。\n",
        "- Azure サブスクリプションに ML CPU VM 用のクォータがあること。もしない場合は、Azure ポータルから割り当てを申請してください。\n",
        "\n",
        "min-instances に 0 を指定すると、ノードがアクティブでない場合に終了させることができます。(コスト削減ができます)。<br>\n",
        "既存の仮想マシンをコンピュート ターゲットとしてアタッチすることも可能です（独自のコンピュートリソースを持ち込む）。"
      ],
      "metadata": {}
    },
    {
      "cell_type": "code",
      "source": [
        "!az ml compute create --name demo-cpucluster1 \\\n",
        "  --type amlcompute \\\n",
        "  --min-instances 0 \\\n",
        "  --max-instances 1 \\\n",
        "  --size Standard_D2_v2 \\\n",
        "  --idle-time-before-scale-down 1800"
      ],
      "outputs": [],
      "execution_count": null,
      "metadata": {}
    },
    {
      "cell_type": "markdown",
      "source": [
        "ML Studio の左メニュー「コンピューティング」をクリックすると実際にコンピューティング クラスターが登録されていることが確認できます。"
      ],
      "metadata": {
        "nteract": {
          "transient": {
            "deleting": false
          }
        }
      }
    },
    {
      "cell_type": "markdown",
      "source": [
        "### Step 2 : 環境の作成\n",
        "\n",
        "ここでは、スクリプトを実行するための Docker 環境を新規に作成します。初回は、以下のような設定で、自前の conatiner イメージを生成します。(ただし、一度生成した環境を登録しておけば、次回の実行時に再利用することで高速化できます。\n",
        "\n",
        "この例では、手動で環境を作成していますが、既存の環境（curated environmentと呼びます）を利用することもできます。"
      ],
      "metadata": {}
    },
    {
      "cell_type": "markdown",
      "source": [
        "\n",
        "まず conda の dependancies yaml を作成し、04_conda_pydata.yml として保存します。\n"
      ],
      "metadata": {}
    },
    {
      "cell_type": "code",
      "source": [
        "script_folder = './environments'\n",
        "os.makedirs(script_folder, exist_ok=True)"
      ],
      "outputs": [],
      "execution_count": null,
      "metadata": {
        "jupyter": {
          "outputs_hidden": false,
          "source_hidden": false
        },
        "nteract": {
          "transient": {
            "deleting": false
          }
        }
      }
    },
    {
      "cell_type": "markdown",
      "source": [
        "モジュールのバージョン違いによるエラーなどの実行環境に起因する問題は、正常動作している開発環境と同じ設定にすることで軽減できます。"
      ],
      "metadata": {
        "nteract": {
          "transient": {
            "deleting": false
          }
        }
      }
    },
    {
      "cell_type": "code",
      "source": [
        "%%writefile environments/02_diabetes-env.yml\n",
        "channels:\n",
        "  - defaults\n",
        "  - anaconda\n",
        "  - conda-forge\n",
        "dependencies:\n",
        "  - python=3.8.5\n",
        "  - pip\n",
        "  - pip:\n",
        "      - azureml-defaults\n",
        "      - azureml-mlflow==1.41.0\n",
        "      - scikit-learn==1.0.2\n",
        "      - pandas==1.1.5\n",
        "      - joblib==1.0.0\n",
        "      - matplotlib==3.3.3"
      ],
      "outputs": [],
      "execution_count": null,
      "metadata": {}
    },
    {
      "cell_type": "markdown",
      "source": [
        "カスタム環境（diabetes-env という名前）を上記の conda の設定で AML に登録します。"
      ],
      "metadata": {}
    },
    {
      "cell_type": "code",
      "source": [
        "%%writefile 02_env_register.yml\n",
        "$schema: https://azuremlschemas.azureedge.net/latest/environment.schema.json\n",
        "name: diabetes-env\n",
        "image: mcr.microsoft.com/azureml/openmpi3.1.2-ubuntu18.04\n",
        "version: 1\n",
        "conda_file: ./environments/02_diabetes-env.yml\n",
        "description: diabetes env"
      ],
      "outputs": [],
      "execution_count": null,
      "metadata": {}
    },
    {
      "cell_type": "code",
      "source": [
        "!az ml environment create --file 02_env_register.yml"
      ],
      "outputs": [],
      "execution_count": null,
      "metadata": {}
    },
    {
      "cell_type": "markdown",
      "source": [
        "ML Studio の左メニュー「環境」をクリックすると実際にカスタム環境が登録されていることが確認できます。"
      ],
      "metadata": {
        "nteract": {
          "transient": {
            "deleting": false
          }
        }
      }
    },
    {
      "cell_type": "markdown",
      "source": [
        "### Step 3 : トレーニングジョブの送信"
      ],
      "metadata": {}
    },
    {
      "cell_type": "markdown",
      "source": [
        "上記の compute と環境を用いてトレーニングジョブを送信します。\n",
        "この例では、diabetes_data_oh4ml_350records という登録済みのデータ アセットをコンピュート ターゲットにマウントして使用します。(データの準備は \"Exercise02 : Prepare Data \"を実行してください。)\n",
        " AMLでデータ アセットを利用するには、以下のように　`azureml:{DATA_NAME}:{DATA_VERSION}` または `azureml:{DATA_NAME}@latest `に最新版のアセットを設定してください。\n",
        "\n",
        "> Note : 注意：初回実行時は、ベースイメージの取得、新しいイメージ（カスタム環境）の生成、クラスタ内のノードの起動、スクリプトの実行を行うため、10~15 分の時間がかかります。組み込みのキュレーション環境を使用することで、高速化することができます。"
      ],
      "metadata": {}
    },
    {
      "cell_type": "code",
      "source": [
        "%%writefile 02_train_on_remote.yml\n",
        "$schema: https://azuremlschemas.azureedge.net/latest/commandJob.schema.json\n",
        "experiment_name: train-diabetes-oh4ml\n",
        "description: train diabetes oh4ml\n",
        "type: command\n",
        "code: ./scripts\n",
        "command: >-\n",
        "  python train.py \n",
        "  --input_data ${{inputs.diabetes_data}}\n",
        "  --output_dir ${{outputs.outputs}}\n",
        "environment: azureml:diabetes-env@latest\n",
        "inputs:\n",
        "  diabetes_data:\n",
        "    type: uri_file\n",
        "    path: azureml:diabetes_data_oh4ml_350records@latest\n",
        "  mlflow_exp_name: train-diabetes-oh4ml\n",
        "outputs:\n",
        "  outputs:\n",
        "compute: azureml:demo-cpucluster1"
      ],
      "outputs": [],
      "execution_count": null,
      "metadata": {
        "jupyter": {
          "outputs_hidden": false,
          "source_hidden": false
        },
        "nteract": {
          "transient": {
            "deleting": false
          }
        }
      }
    },
    {
      "cell_type": "markdown",
      "source": [
        "では、AML CLI v2 でジョブを投入してみましょう。<br>\n",
        "AML Studio の「ジョブ(Job)」メニューから進捗と結果を確認します。"
      ],
      "metadata": {}
    },
    {
      "cell_type": "code",
      "source": [
        "!az ml job create --file 02_train_on_remote.yml"
      ],
      "outputs": [],
      "execution_count": null,
      "metadata": {}
    },
    {
      "cell_type": "markdown",
      "source": [
        "ジョブが完了するまでお待ちください。\n",
        "AML studio UI(\"Jobs \"ペイン参照)または以下の CLI コマンドで進捗と結果を表示することができます。<br>\n",
        "nifty_tree_cftvbh77f7 を**生成したジョブ名で置き換えてください**。ジョブ名については、上記の出力を参照してください\n"
      ],
      "metadata": {}
    },
    {
      "cell_type": "code",
      "source": [
        "job_name = \"nifty_tree_cftvbh77f7\""
      ],
      "outputs": [],
      "execution_count": null,
      "metadata": {}
    },
    {
      "cell_type": "code",
      "source": [
        "!az ml job show --name $job_name"
      ],
      "outputs": [],
      "execution_count": null,
      "metadata": {}
    },
    {
      "cell_type": "markdown",
      "source": [
        "### Step 4 : 結果のダウンロードと評価\n",
        "\n",
        "生成されたモデルをローカルコンピュータで確認してみましょう。\n",
        "\n",
        "[Azure ML studio UI](https://ml.azure.com/) にアクセスします。<br>\n",
        "すると、models ディレクトリに保存されたモデルが表示されます。\n",
        "\n",
        "\n",
        "![Saved Outputs](../images/010.png)\n",
        "\n",
        "以下の ``az ml job download`` コマンドを実行すると、ログと出力がローカルにダウンロードされます。 <br>\n",
        "ログは ``artifacts/xxx_logs`` に、出力は ``artifacts/models`` に保存されます。\n"
      ],
      "metadata": {}
    },
    {
      "cell_type": "code",
      "source": [
        "!az ml job download --name $job_name"
      ],
      "outputs": [],
      "execution_count": null,
      "metadata": {}
    },
    {
      "cell_type": "markdown",
      "source": [
        "ダウンロードしたモデルをローカルで確認します。"
      ],
      "metadata": {}
    },
    {
      "cell_type": "code",
      "source": [
        "import mlflow.sklearn\n",
        "import warnings\n",
        "warnings.filterwarnings('ignore')\n",
        "\n",
        "model_path = \"./artifacts/models\"\n",
        "model = mlflow.sklearn.load_model(model_path)\n",
        "\n",
        "# sample query\n",
        "input = [[0.0380759064334241,0.0506801187398187,0.0616962065186885,0.0218723549949558,-0.0442234984244464,-0.0348207628376986,-0.0434008456520269,-0.00259226199818282,0.0199084208763183,-0.0176461251598052]]\n",
        "\n",
        "predictions = model.predict(input)\n",
        "log_txt = 'Predictions:' + str(predictions)\n",
        "print (log_txt)\n"
      ],
      "outputs": [],
      "execution_count": null,
      "metadata": {
        "jupyter": {
          "outputs_hidden": false,
          "source_hidden": false
        },
        "nteract": {
          "transient": {
            "deleting": false
          }
        }
      }
    },
    {
      "cell_type": "markdown",
      "source": [
        "### Step 5 : モデルの登録\n",
        "\n",
        "モデルを AML モデルレジストリにアップロード（登録）します。<br>\n",
        "登録は CLI v2 からも可能ですが、今回は一例として MLFlow のインターフェースを利用しています。\n",
        "MLFlow の `register_model` を使用するとジョブ名からモデルを登録できます。"
      ],
      "metadata": {}
    },
    {
      "cell_type": "code",
      "source": [
        "import mlflow\n",
        "model_uri = \"runs:/{}/models\".format(job_name)\n",
        "mv = mlflow.register_model(model_uri, \"diabetes_model_oh4ml\")\n",
        "mv"
      ],
      "outputs": [],
      "execution_count": null,
      "metadata": {
        "jupyter": {
          "outputs_hidden": false,
          "source_hidden": false
        },
        "nteract": {
          "transient": {
            "deleting": false
          }
        }
      }
    },
    {
      "cell_type": "markdown",
      "source": [
        "### Step 6 : AML モデルレジストリに登録されたモデルをロード\n",
        "MLFlow を利用して AML モデルレジストリに登録されたモデルを取得します。<br>\n",
        "モデルはすでにバージョン管理されており、モデルを呼び出すにはモデル名とモデルバージョン番号が必要になります。"
      ],
      "metadata": {
        "nteract": {
          "transient": {
            "deleting": false
          }
        }
      }
    },
    {
      "cell_type": "code",
      "source": [
        "from mlflow.tracking import MlflowClient\n",
        "model_name = \"diabetes_model_oh4ml\"\n",
        "model_stage = \"None\"\n",
        "\n",
        "# Use MLFlow to get the latest model\n",
        "client = MlflowClient()\n",
        "model_version = client.get_latest_versions(model_name, stages=[model_stage])[0].version\n",
        "model_uri = \"models:/{model_name}/{model_version}\".format(model_name=model_name, model_version=model_version)\n",
        "model = mlflow.sklearn.load_model(model_uri)\n",
        "print(model)\n",
        "\n",
        "# sample query\n",
        "input = [[0.0380759064334241,0.0506801187398187,0.0616962065186885,0.0218723549949558,-0.0442234984244464,-0.0348207628376986,-0.0434008456520269,-0.00259226199818282,0.0199084208763183,-0.0176461251598052]]\n",
        "\n",
        "predictions = model.predict(input)\n",
        "log_txt = 'Predictions:' + str(predictions)\n",
        "print (log_txt)"
      ],
      "outputs": [],
      "execution_count": null,
      "metadata": {
        "jupyter": {
          "outputs_hidden": false,
          "source_hidden": false
        },
        "nteract": {
          "transient": {
            "deleting": false
          }
        }
      }
    },
    {
      "cell_type": "markdown",
      "source": [
        "### Step 7 : AML コンピュートクラスターの削除\n",
        "\n",
        "AML コンピュートが非アクティブになると、ノードは自動的に終了するので、**コストを節約するために削除する必要はありません**。\n",
        "しかし、もしクリーンアップしたい場合は、以下のように実行してください。"
      ],
      "metadata": {}
    },
    {
      "cell_type": "code",
      "source": [
        "\"\"\"\n",
        "!az ml compute delete --name demo-cpucluster1 \\\n",
        "  --yes\n",
        "\"\"\""
      ],
      "outputs": [],
      "execution_count": null,
      "metadata": {}
    }
  ],
  "metadata": {
    "kernel_info": {
      "name": "python38-azureml"
    },
    "kernelspec": {
      "name": "python38-azureml",
      "language": "python",
      "display_name": "Python 3.8 - AzureML"
    },
    "language_info": {
      "name": "python",
      "version": "3.8.5",
      "mimetype": "text/x-python",
      "codemirror_mode": {
        "name": "ipython",
        "version": 3
      },
      "pygments_lexer": "ipython3",
      "nbconvert_exporter": "python",
      "file_extension": ".py"
    },
    "microsoft": {
      "host": {
        "AzureML": {
          "notebookHasBeenCompleted": true
        }
      }
    },
    "nteract": {
      "version": "nteract-front-end@1.0.0"
    }
  },
  "nbformat": 4,
  "nbformat_minor": 1
}