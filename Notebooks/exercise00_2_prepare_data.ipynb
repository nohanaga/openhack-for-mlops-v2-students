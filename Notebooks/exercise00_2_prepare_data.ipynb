{
  "cells": [
    {
      "cell_type": "markdown",
      "source": [
        "# Exercise 00-2 : Prepare Data\n",
        "\n",
        "ここでは、Azure Machine Learning のデータ アセットとしてデータをアップロードします。\n",
        "この後のすべての演習（演習02～）では、この演習で用意したデータを使用しますので、事前にこの演習を実行してください。\n",
        "\n",
        "ここでは、scikit-learn の diabetes のデータセット ([load_diabetes](https://scikit-learn.org/stable/modules/generated/sklearn.datasets.load_diabetes.html)) を使って学習します。\n"
      ],
      "metadata": {}
    },
    {
      "cell_type": "markdown",
      "source": [
        "## 糖尿病データセットの取得"
      ],
      "metadata": {
        "nteract": {
          "transient": {
            "deleting": false
          }
        }
      }
    },
    {
      "cell_type": "code",
      "source": [
        "import os\r\n",
        "import numpy as np\r\n",
        "import pandas as pd\r\n",
        "from sklearn import datasets\r\n",
        " \r\n",
        "# Load diabetes datasets\r\n",
        "diabetes = datasets.load_diabetes()\r\n",
        "X = diabetes.data\r\n",
        "y = diabetes.target\r\n",
        " \r\n",
        "# Create a pandas DataFrame that serves as sample input for the deployed ElasticNet model\r\n",
        "Y = np.array([y]).transpose()\r\n",
        "d = np.concatenate((X, Y), axis=1)\r\n",
        "cols = ['age', 'sex', 'bmi', 'bp', 's1', 's2', 's3', 's4', 's5', 's6', 'progression']\r\n",
        "data = pd.DataFrame(d, columns=cols)\r\n",
        "data350 = data[:350]"
      ],
      "outputs": [],
      "execution_count": null,
      "metadata": {
        "jupyter": {
          "source_hidden": false,
          "outputs_hidden": false
        },
        "nteract": {
          "transient": {
            "deleting": false
          }
        }
      }
    },
    {
      "cell_type": "code",
      "source": [
        "print(data.shape)\r\n",
        "print(data350.shape)\r\n",
        "data"
      ],
      "outputs": [],
      "execution_count": null,
      "metadata": {
        "jupyter": {
          "source_hidden": false,
          "outputs_hidden": false
        },
        "nteract": {
          "transient": {
            "deleting": false
          }
        }
      }
    },
    {
      "cell_type": "code",
      "source": [
        "os.makedirs(\"data\", exist_ok=True)\r\n",
        "\r\n",
        "data.to_csv(\"data/diabetes_data.csv\", index=False)\r\n",
        "data350.to_csv(\"data/diabetes_data_350.csv\", index=False)"
      ],
      "outputs": [],
      "execution_count": null,
      "metadata": {
        "jupyter": {
          "source_hidden": false,
          "outputs_hidden": false
        },
        "nteract": {
          "transient": {
            "deleting": false
          }
        }
      }
    },
    {
      "cell_type": "markdown",
      "source": [
        "## デフォルトのデータストアにローカルファイルをアップロードする\n",
        "Azure Machine Learning（AML）ワークスペースは、独自のデフォルトデータストアを持ちます。AML ワークスペースを作成すると、同じリソースグループ内にストレージアカウント（デフォルトデータストア）が自動生成されます。\n",
        "この例では、yaml を作成し、ファイル（data フォルダ内）を AML にアップロードします。"
      ],
      "metadata": {}
    },
    {
      "cell_type": "markdown",
      "source": [
        "\r\n",
        "まず、データ アセット登録のための yaml を作成します。"
      ],
      "metadata": {}
    },
    {
      "cell_type": "code",
      "source": [
        "%%writefile 00_file_upload.yml\n",
        "$schema: https://azuremlschemas.azureedge.net/latest/data.schema.json\n",
        "name: diabetes_data_oh4ml\n",
        "description: diabades data for oh4ml\n",
        "type: uri_file\n",
        "path: data/diabetes_data.csv"
      ],
      "outputs": [],
      "execution_count": null,
      "metadata": {}
    },
    {
      "cell_type": "markdown",
      "source": [
        "ここで、AML CLI v2 でデータ アセットを登録（ローカルデータのアップロード）します。"
      ],
      "metadata": {}
    },
    {
      "cell_type": "code",
      "source": [
        "!az ml data create --file 00_file_upload.yml"
      ],
      "outputs": [],
      "execution_count": null,
      "metadata": {}
    },
    {
      "cell_type": "markdown",
      "source": [
        "## カラム数を減らしたデータ アセットの準備\r\n",
        "データサイエンス初期のデータが少ない状態をシミュレートするため、あえてレコードを減らしたバージョンのデータ アセットを作成します。"
      ],
      "metadata": {
        "nteract": {
          "transient": {
            "deleting": false
          }
        }
      }
    },
    {
      "cell_type": "code",
      "source": [
        "%%writefile 00_file_upload_350.yml\r\n",
        "$schema: https://azuremlschemas.azureedge.net/latest/data.schema.json\r\n",
        "name: diabetes_data_oh4ml_350records\r\n",
        "description: diabades data for oh4ml(350)\r\n",
        "type: uri_file\r\n",
        "path: data/diabetes_data_350.csv"
      ],
      "outputs": [],
      "execution_count": null,
      "metadata": {
        "jupyter": {
          "source_hidden": false,
          "outputs_hidden": false
        },
        "nteract": {
          "transient": {
            "deleting": false
          }
        }
      }
    },
    {
      "cell_type": "code",
      "source": [
        "!az ml data create --file 00_file_upload_350.yml"
      ],
      "outputs": [],
      "execution_count": null,
      "metadata": {
        "jupyter": {
          "source_hidden": false,
          "outputs_hidden": false
        },
        "nteract": {
          "transient": {
            "deleting": false
          }
        }
      }
    },
    {
      "cell_type": "markdown",
      "source": [
        "AML Studio の左メニュー「データ」をクリックすると実際にデータ アセットが登録されていることが確認できます。"
      ],
      "metadata": {
        "nteract": {
          "transient": {
            "deleting": false
          }
        }
      }
    }
  ],
  "metadata": {
    "kernelspec": {
      "name": "python38-azureml",
      "language": "python",
      "display_name": "Python 3.8 - AzureML"
    },
    "language_info": {
      "name": "python",
      "version": "3.8.5",
      "mimetype": "text/x-python",
      "codemirror_mode": {
        "name": "ipython",
        "version": 3
      },
      "pygments_lexer": "ipython3",
      "nbconvert_exporter": "python",
      "file_extension": ".py"
    },
    "kernel_info": {
      "name": "python38-azureml"
    },
    "nteract": {
      "version": "nteract-front-end@1.0.0"
    },
    "microsoft": {
      "host": {
        "AzureML": {
          "notebookHasBeenCompleted": true
        }
      }
    }
  },
  "nbformat": 4,
  "nbformat_minor": 0
}